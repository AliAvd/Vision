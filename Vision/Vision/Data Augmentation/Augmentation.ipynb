{
 "cells": [
  {
   "cell_type": "code",
   "execution_count": 1,
   "id": "edc8f599-31dc-4fa9-9da8-9b72aa30fc4b",
   "metadata": {},
   "outputs": [
    {
     "name": "stdout",
     "output_type": "stream",
     "text": [
      "WARNING:tensorflow:From C:\\Users\\SAMA LAPTOP\\AppData\\Local\\Programs\\Python\\Python310\\lib\\site-packages\\keras\\src\\losses.py:2976: The name tf.losses.sparse_softmax_cross_entropy is deprecated. Please use tf.compat.v1.losses.sparse_softmax_cross_entropy instead.\n",
      "\n"
     ]
    }
   ],
   "source": [
    "from tensorflow.keras.preprocessing.image import ImageDataGenerator\n",
    "from tensorflow.keras.preprocessing import image\n",
    "import matplotlib.pyplot as plt\n",
    "import numpy as np\n",
    "from PIL import Image\n",
    "import os\n",
    "import scipy\n",
    "\n",
    "# Define the path to your dataset\n",
    "dataset_path = r'C:\\Users\\SAMA LAPTOP\\Desktop\\Snapshots3_v3'\n",
    "class_folder = 'chakelz'\n",
    "class_folder_list = ['active zard', 'attack banafsh', 'attack sabz', 'background', 'chakelz','chay','chay golestan', 'chitoz halghei','halvarde','khorma','lux','macarooni','nooshabe','pastil','poodr roshd','reshte ash','rob','roghan','somagh sadr','zardchoobe']\n",
    "\n",
    "# Create a custom mask function\n",
    "def generate_random_mask(image_size=(224, 224), mask_size=(50, 50), channels=3):\n",
    "    mask = np.ones((image_size[0], image_size[1], channels))\n",
    "    start_x = np.random.randint(0, image_size[0] - mask_size[0] + 1)\n",
    "    start_y = np.random.randint(0, image_size[1] - mask_size[1] + 1)\n",
    "    mask[start_x:start_x + mask_size[0], start_y:start_y + mask_size[1], :] = 0\n",
    "    return mask\n",
    "\n",
    "# Create an instance of the ImageDataGenerator with custom mask function\n",
    "datagen = ImageDataGenerator(\n",
    "    preprocessing_function=lambda img: img * generate_random_mask(),\n",
    "    brightness_range=[0.5, 2],  # Adjust the contrast range as needed\n",
    "    # width_shift_range=0.1,\n",
    "    # height_shift_range=0.1,\n",
    "    fill_mode='nearest'\n",
    ")\n",
    "for i in range(len(class_folder_list)):\n",
    "    # Path to the specific class folder\n",
    "    class_folder_path = os.path.join(dataset_path, class_folder_list[i])\n",
    "\n",
    "\n",
    "    # Generate augmented images and save to a directory\n",
    "    output_dir = class_folder_path\n",
    "\n",
    "\n",
    "    # Loop through all images in the class folder\n",
    "    for filename in os.listdir(class_folder_path):\n",
    "        if filename.endswith(\".jpg\") or filename.endswith(\".jpeg\"):  # Assuming images are in JPEG format\n",
    "            img_path = os.path.join(class_folder_path, filename)\n",
    "            # Load and preprocess the image using Pillow\n",
    "            img = Image.open(img_path)\n",
    "            img = img.resize((224, 224))  # Adjust the target size as needed\n",
    "            x = np.array(img)\n",
    "            x = x.reshape((1,) + x.shape)\n",
    "            # # Load and preprocess the image\n",
    "            # img = image.load_img(img_path, target_size=(224, 224))\n",
    "            # x = image.img_to_array(img)\n",
    "            # x = x.reshape((1,) + x.shape)\n",
    "\n",
    "            # Generate augmented images and save to the output directory\n",
    "            i = 0\n",
    "            for batch in datagen.flow(x, batch_size=1, save_to_dir=output_dir, save_prefix=f'{class_folder}_{filename[:-4]}_aug', save_format='jpg'):\n",
    "                i += 1\n",
    "                if i > 2:  # Generate 2 augmented images per original image\n",
    "                    break\n"
   ]
  },
  {
   "cell_type": "code",
   "execution_count": null,
   "id": "230aac8e-a160-47f0-b669-f92339d81514",
   "metadata": {},
   "outputs": [],
   "source": []
  }
 ],
 "metadata": {
  "kernelspec": {
   "display_name": "Python 3 (ipykernel)",
   "language": "python",
   "name": "python3"
  },
  "language_info": {
   "codemirror_mode": {
    "name": "ipython",
    "version": 3
   },
   "file_extension": ".py",
   "mimetype": "text/x-python",
   "name": "python",
   "nbconvert_exporter": "python",
   "pygments_lexer": "ipython3",
   "version": "3.10.0"
  }
 },
 "nbformat": 4,
 "nbformat_minor": 5
}
